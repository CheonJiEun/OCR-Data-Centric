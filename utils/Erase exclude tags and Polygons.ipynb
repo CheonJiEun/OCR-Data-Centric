{
 "cells": [
  {
   "cell_type": "code",
   "execution_count": 1,
   "id": "3b96e039",
   "metadata": {},
   "outputs": [],
   "source": [
    "import json"
   ]
  },
  {
   "cell_type": "markdown",
   "id": "0f001894",
   "metadata": {},
   "source": [
    "### exclude tag랑 point가 4개 넘어가는 box 전부 지우기"
   ]
  },
  {
   "cell_type": "code",
   "execution_count": 2,
   "id": "ab4ce618",
   "metadata": {},
   "outputs": [],
   "source": [
    "anno_root = './train_campers_tags_erased.json'"
   ]
  },
  {
   "cell_type": "code",
   "execution_count": 3,
   "id": "61f39107",
   "metadata": {},
   "outputs": [],
   "source": [
    "# Load json\n",
    "with open(anno_root, 'r') as f:\n",
    "    train_json = json.load(f)\n",
    "\n",
    "# Exclude tags definition\n",
    "exclude_tags = [\"masked\", \"excluded-region\", \"maintable\", \"stamp\"]\n",
    "\n",
    "for image_key, image_data in train_json['images'].items():\n",
    "    words = image_data.get('words', {})\n",
    "    if words:\n",
    "        remove_keys = [\n",
    "            bbox_key for bbox_key, bbox_data in words.items() \n",
    "            if any(tag in bbox_data.get('tags', []) for tag in exclude_tags) or len(bbox_data.get('points', [])) > 4\n",
    "        ]\n",
    "        \n",
    "        for key in remove_keys:\n",
    "            words.pop(key, None)\n",
    "\n",
    "# Save json\n",
    "with open(anno_root, 'w') as f:\n",
    "    json.dump(train_json, f, indent=1)"
   ]
  },
  {
   "cell_type": "code",
   "execution_count": null,
   "id": "f502280a",
   "metadata": {},
   "outputs": [],
   "source": []
  }
 ],
 "metadata": {
  "kernelspec": {
   "display_name": "Python 3 (ipykernel)",
   "language": "python",
   "name": "python3"
  },
  "language_info": {
   "codemirror_mode": {
    "name": "ipython",
    "version": 3
   },
   "file_extension": ".py",
   "mimetype": "text/x-python",
   "name": "python",
   "nbconvert_exporter": "python",
   "pygments_lexer": "ipython3",
   "version": "3.11.0"
  }
 },
 "nbformat": 4,
 "nbformat_minor": 5
}
