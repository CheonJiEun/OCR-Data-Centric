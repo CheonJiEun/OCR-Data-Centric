{
 "cells": [
  {
   "cell_type": "markdown",
   "id": "987e2967-a4cf-410b-90a6-5306ce38eae3",
   "metadata": {},
   "source": [
    "## Train Validation Split Code 1\n",
    "- train.json 파일 분리\n",
    "- sklearn의 train_test_split 함수 사용\n",
    "- train : 80%\n",
    "- val : 20%"
   ]
  },
  {
   "cell_type": "code",
   "execution_count": 1,
   "id": "8bc10821-faa7-41e2-b08f-8060ec44e922",
   "metadata": {},
   "outputs": [],
   "source": [
    "import json\n",
    "import os\n",
    "import numpy as np\n",
    "# from sklearn.model_selection import StratifiedGroupKFold\n",
    "from sklearn.model_selection import train_test_split"
   ]
  },
  {
   "cell_type": "code",
   "execution_count": 2,
   "id": "0e2aab6d-1063-4413-a9a3-3bc6e5e2e2b7",
   "metadata": {},
   "outputs": [],
   "source": [
    "json_dir = '/opt/ml/input/data/medical/ufo/' # json 파일 경로\n",
    "read_train_json = json_dir+'train.json'      # 읽을 train json 파일명\n",
    "write_train_json = json_dir+'train1.json'    # 쓸 split train json 파일명\n",
    "write_val_json = json_dir+'val1.json'        # 쓸 split val json 파일명\n",
    "\n",
    "with open(read_train_json, 'r') as f:\n",
    "    data = json.load(f)"
   ]
  },
  {
   "cell_type": "code",
   "execution_count": 3,
   "id": "73a4163a-066b-4980-a087-c5d454036fb1",
   "metadata": {
    "scrolled": true
   },
   "outputs": [],
   "source": [
    "images = list(data['images'].keys())"
   ]
  },
  {
   "cell_type": "code",
   "execution_count": 4,
   "id": "97b93516-1e67-4170-b5e3-779e8da3c68a",
   "metadata": {
    "scrolled": true
   },
   "outputs": [
    {
     "data": {
      "text/plain": [
       "100"
      ]
     },
     "execution_count": 4,
     "metadata": {},
     "output_type": "execute_result"
    }
   ],
   "source": [
    "len(images)  # 총 이미지 갯수"
   ]
  },
  {
   "cell_type": "code",
   "execution_count": 5,
   "id": "fc2e37a4-efc1-47cd-9392-1a546a3740f8",
   "metadata": {},
   "outputs": [],
   "source": [
    "train, val = train_test_split(images, train_size=0.8, shuffle=True) # train = 0.8, val = 0.2 비율 나눔"
   ]
  },
  {
   "cell_type": "code",
   "execution_count": 6,
   "id": "5edc35c1-3ba8-4957-a271-7739c8088b75",
   "metadata": {
    "scrolled": true
   },
   "outputs": [
    {
     "data": {
      "text/plain": [
       "(80, 20)"
      ]
     },
     "execution_count": 6,
     "metadata": {},
     "output_type": "execute_result"
    }
   ],
   "source": [
    "len(train), len(val)  # 나눠진 이미지 갯수"
   ]
  },
  {
   "cell_type": "code",
   "execution_count": 7,
   "id": "ab7f83fc-81e6-476f-86cb-131376bc876a",
   "metadata": {},
   "outputs": [],
   "source": [
    "train_images = {img_id: data['images'][img_id] for img_id in train}  # images dir 생성\n",
    "train_anns = {'images': train_images} # 'images' key에 저장\n",
    "val_images = {img_id: data['images'][img_id] for img_id in val}      # images dir 생성\n",
    "val_anns = {'images': val_images}     # 'images' key에 저장"
   ]
  },
  {
   "cell_type": "code",
   "execution_count": 8,
   "id": "bbc5f18c-9154-4438-b394-8fd1329fc46e",
   "metadata": {},
   "outputs": [],
   "source": [
    "# split train json 파일 쓰기\n",
    "with open(write_train_json, 'w') as f:\n",
    "    json.dump(train_anns, f)\n",
    "\n",
    "# split val json 파일 쓰기\n",
    "with open(write_val_json, 'w') as f:\n",
    "    json.dump(val_anns, f)"
   ]
  },
  {
   "cell_type": "markdown",
   "id": "db12d131-1e08-47d5-bf65-ff5246d30a82",
   "metadata": {},
   "source": [
    "## Train Validation Split Code 2\n",
    "- train.json + annotation.json = train_campers.json\n",
    "- sklearn의 train_test_split 함수 사용\n",
    "- train : 80%\n",
    "- val : 20%"
   ]
  },
  {
   "cell_type": "code",
   "execution_count": 4,
   "id": "f76ab7a1-6169-498a-9ba1-3fa6e1459c43",
   "metadata": {},
   "outputs": [],
   "source": [
    "import json\n",
    "import os\n",
    "import numpy as np\n",
    "# from sklearn.model_selection import StratifiedGroupKFold\n",
    "from sklearn.model_selection import train_test_split"
   ]
  },
  {
   "cell_type": "code",
   "execution_count": 15,
   "id": "5adf1dd8-025c-44ec-afda-1a185a372821",
   "metadata": {},
   "outputs": [],
   "source": [
    "json_dir = '/opt/ml/input/data/medical/ufo/'        # json 파일 경로\n",
    "json_files = ['train.json', 'annotation.json']      # 합칠 json 파일명\n",
    "\n",
    "write_train_campers_json = json_dir+'train_campers.json'  # 합친 json 파일\n",
    "\n",
    "write_train_json = json_dir+'train2.json'           # 쓸 split train json 파일명\n",
    "write_val_json = json_dir+'val2.json'               # 쓸 split val json 파일명"
   ]
  },
  {
   "cell_type": "code",
   "execution_count": 17,
   "id": "b26358e6-fe47-429a-8703-49f9892bdeac",
   "metadata": {},
   "outputs": [],
   "source": [
    "ann = dict()\n",
    "for jf in json_files:\n",
    "    with open(json_dir+jf, 'r') as f:\n",
    "        data = json.load(f)\n",
    "        ann.update(data['images'])"
   ]
  },
  {
   "cell_type": "code",
   "execution_count": 18,
   "id": "cfa37529-6c68-4540-953e-46e76989f01c",
   "metadata": {},
   "outputs": [],
   "source": [
    "new_ann = {'images': ann}"
   ]
  },
  {
   "cell_type": "code",
   "execution_count": 20,
   "id": "a2b69a1e-a495-46fa-801c-66169c726a9e",
   "metadata": {},
   "outputs": [
    {
     "data": {
      "text/plain": [
       "301"
      ]
     },
     "execution_count": 20,
     "metadata": {},
     "output_type": "execute_result"
    }
   ],
   "source": [
    "len(new_ann['images'])"
   ]
  },
  {
   "cell_type": "code",
   "execution_count": 21,
   "id": "af6062c4-81dc-444d-93bf-d9c3482c77ac",
   "metadata": {},
   "outputs": [],
   "source": [
    "# 하나의 json 파일로 만들기\n",
    "with open(write_train_campers_json, 'w') as f:\n",
    "    json.dump(new_ann, f)"
   ]
  },
  {
   "cell_type": "markdown",
   "id": "5ee7cd63-7bcb-47da-abd3-0ce232f167de",
   "metadata": {},
   "source": [
    "####  train, val 나누기"
   ]
  },
  {
   "cell_type": "code",
   "execution_count": 22,
   "id": "621d4d98-de0a-4e79-a921-498d2dee8026",
   "metadata": {},
   "outputs": [],
   "source": [
    "# json 파일 읽어서 train, val 나누기\n",
    "with open(write_train_campers_json, 'r') as f:\n",
    "    data = json.load(f)"
   ]
  },
  {
   "cell_type": "code",
   "execution_count": 23,
   "id": "506d03ea-4158-4c6d-9340-6d168fa7f9aa",
   "metadata": {},
   "outputs": [],
   "source": [
    "images = list(data['images'].keys())"
   ]
  },
  {
   "cell_type": "code",
   "execution_count": 24,
   "id": "d3ad2fa4-6fab-4252-8889-f196f31e9cb2",
   "metadata": {},
   "outputs": [],
   "source": [
    "train, val = train_test_split(images, train_size=0.8, shuffle=True) # train = 0.8, val = 0.2 비율 나눔"
   ]
  },
  {
   "cell_type": "code",
   "execution_count": 25,
   "id": "e01358aa-5560-49ec-bcf8-cb50f15f83ba",
   "metadata": {
    "scrolled": true
   },
   "outputs": [
    {
     "data": {
      "text/plain": [
       "(240, 61)"
      ]
     },
     "execution_count": 25,
     "metadata": {},
     "output_type": "execute_result"
    }
   ],
   "source": [
    "len(train), len(val)  # 나눠진 이미지 갯수"
   ]
  },
  {
   "cell_type": "code",
   "execution_count": 26,
   "id": "2ab74d9f-29f0-4b9b-a201-44bc67a7ba90",
   "metadata": {},
   "outputs": [],
   "source": [
    "train_images = {img_id: data['images'][img_id] for img_id in train}  # images dir 생성\n",
    "train_anns = {'images': train_images} # 'images' key에 저장\n",
    "val_images = {img_id: data['images'][img_id] for img_id in val}      # images dir 생성\n",
    "val_anns = {'images': val_images}     # 'images' key에 저장"
   ]
  },
  {
   "cell_type": "code",
   "execution_count": 27,
   "id": "28ab8d38-e68b-4c9f-b2fc-f450eebf3d6d",
   "metadata": {},
   "outputs": [],
   "source": [
    "# split train json 파일 쓰기\n",
    "with open(write_train_json, 'w') as f:\n",
    "    json.dump(train_anns, f)\n",
    "\n",
    "# split val json 파일 쓰기\n",
    "with open(write_val_json, 'w') as f:\n",
    "    json.dump(val_anns, f)"
   ]
  },
  {
   "cell_type": "code",
   "execution_count": null,
   "id": "a15ca2c7-9c5a-4ec2-abd3-afcffbe71566",
   "metadata": {},
   "outputs": [],
   "source": []
  }
 ],
 "metadata": {
  "kernelspec": {
   "display_name": "Python 3 (ipykernel)",
   "language": "python",
   "name": "python3"
  },
  "language_info": {
   "codemirror_mode": {
    "name": "ipython",
    "version": 3
   },
   "file_extension": ".py",
   "mimetype": "text/x-python",
   "name": "python",
   "nbconvert_exporter": "python",
   "pygments_lexer": "ipython3",
   "version": "3.8.5"
  }
 },
 "nbformat": 4,
 "nbformat_minor": 5
}
