{
 "cells": [
  {
   "cell_type": "code",
   "execution_count": 1,
   "id": "56f77981",
   "metadata": {},
   "outputs": [],
   "source": [
    "import json\n",
    "from typing import Dict, Any\n",
    "from collections import Counter"
   ]
  },
  {
   "cell_type": "code",
   "execution_count": 2,
   "id": "2e713e56",
   "metadata": {},
   "outputs": [],
   "source": [
    "def convert_to_your_format(data: Dict[str, Any]):\n",
    "    your_format = {\"images\": {}}\n",
    "\n",
    "    # imd id : 파일명 형태의 dictionary\n",
    "    image_id_to_filename = {img[\"id\"]: img[\"file_name\"] for img in data[\"images\"]}\n",
    "\n",
    "    for annotation in data[\"annotations\"]:\n",
    "        image_id = annotation[\"image_id\"]\n",
    "        image_name = image_id_to_filename[image_id]\n",
    "        bbox = annotation[\"bbox\"]\n",
    "\n",
    "        tl = [bbox[0], bbox[1]]\n",
    "        tr = [bbox[0] + bbox[2], bbox[1]]\n",
    "        br = [bbox[0] + bbox[2], bbox[1] + bbox[3]]\n",
    "        bl = [bbox[0], bbox[1] + bbox[3]]\n",
    "        \n",
    "        # COCO에서 UFO로 변환시 비는 정보는 placeholder로 대체\n",
    "        if image_name not in your_format[\"images\"]:\n",
    "            your_format[\"images\"][image_name] = {\n",
    "                \"paragraphs\": {},\n",
    "                \"words\": {},\n",
    "                \"chars\": {},\n",
    "                \"img_w\": data[\"images\"][image_id - 1][\"width\"],  # img_id가 1로 시작한다고 가정\n",
    "                \"img_h\": data[\"images\"][image_id - 1][\"height\"],  # img_id가 1로 시작한다고 가정\n",
    "                \"tags\": [\"autoannotated\"], \n",
    "                \"relations\": {},\n",
    "                \"annotation_log\": {\n",
    "                    \"worker\": \"worker\",\n",
    "                    \"timestamp\": \"2023-03-22\",\n",
    "                    \"tool_version\": \"\",\n",
    "                    \"source\": None\n",
    "                },\n",
    "                \"license_tag\": {\n",
    "                    \"usability\": True,\n",
    "                    \"public\": False,\n",
    "                    \"commercial\": True,\n",
    "                    \"type\": None,\n",
    "                    \"holder\": \"Upstage\"\n",
    "                }\n",
    "            }\n",
    "\n",
    "        your_format[\"images\"][image_name][\"words\"][str(annotation[\"id\"]).zfill(4)] = {\n",
    "            \"transcription\": \"\",  \n",
    "            \"points\": [tl, tr, br, bl],\n",
    "            \"orientation\": \"Horizontal\",  # horizontal로 가정 되고 tag가 붙여짐\n",
    "            \"language\": None,  \n",
    "            \"tags\": [\"Auto\"],  \n",
    "            \"confidence\": None,  \n",
    "            \"illegibility\": False \n",
    "        }\n",
    "\n",
    "    return your_format"
   ]
  },
  {
   "cell_type": "code",
   "execution_count": 3,
   "id": "a7c3e05b",
   "metadata": {},
   "outputs": [],
   "source": [
    "# Load COCO JSON\n",
    "with open(\"train_mosaic_final_coco.json\") as f:\n",
    "    coco_data = json.load(f)\n",
    "\n",
    "# UFO로 변환\n",
    "your_format_data = convert_to_your_format(coco_data)\n",
    "\n",
    "# UFO JSON Save\n",
    "with open(\"mosaic_final_ufo.json\", \"w\") as f:\n",
    "    json.dump(your_format_data, f)"
   ]
  },
  {
   "cell_type": "code",
   "execution_count": null,
   "id": "4ea4f50b",
   "metadata": {},
   "outputs": [],
   "source": []
  }
 ],
 "metadata": {
  "kernelspec": {
   "display_name": "Python 3 (ipykernel)",
   "language": "python",
   "name": "python3"
  },
  "language_info": {
   "codemirror_mode": {
    "name": "ipython",
    "version": 3
   },
   "file_extension": ".py",
   "mimetype": "text/x-python",
   "name": "python",
   "nbconvert_exporter": "python",
   "pygments_lexer": "ipython3",
   "version": "3.11.0"
  }
 },
 "nbformat": 4,
 "nbformat_minor": 5
}
