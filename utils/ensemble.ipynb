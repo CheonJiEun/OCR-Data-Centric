{
 "cells": [
  {
   "cell_type": "markdown",
   "id": "3b14d3ff-9390-403a-9329-8eb97c9def22",
   "metadata": {},
   "source": [
    "# Ensemble - WBF\n",
    "utils 폴더안에 해당 주피터파일 위치해서 실행하기"
   ]
  },
  {
   "cell_type": "code",
   "execution_count": null,
   "id": "02aa270e-3ec2-4079-9a75-01fe7c9ec420",
   "metadata": {},
   "outputs": [],
   "source": [
    "!pip install ensemble_boxes"
   ]
  },
  {
   "cell_type": "code",
   "execution_count": null,
   "id": "59dbe882-5065-459a-9e76-663dd1346cc6",
   "metadata": {},
   "outputs": [],
   "source": [
    "import pandas as pd\n",
    "from ensemble_boxes import *\n",
    "import numpy as np\n",
    "from pycocotools.coco import COCO\n",
    "import os\n",
    "import cv2\n",
    "import json\n",
    "import skimage.io as io\n",
    "import matplotlib.pyplot as plt\n",
    "import matplotlib.patches as patches\n",
    "from matplotlib.collections import PatchCollection\n",
    "import seaborn as sns"
   ]
  },
  {
   "cell_type": "code",
   "execution_count": null,
   "id": "20d14d3e-6b88-45db-8ee0-5066e63923db",
   "metadata": {},
   "outputs": [],
   "source": [
    "test_folder = '/opt/ml/input/data/medical/img/test/'\n",
    "get_img_files = os.listdir(test_folder)\n",
    "if get_img_files[-1].startswith('.'):  # '.'으로 시작하는 파일 제거용\n",
    "    get_img_files.pop(-1)"
   ]
  },
  {
   "cell_type": "code",
   "execution_count": null,
   "id": "ea0467d9-a80b-48f8-9244-f9c7788d03f3",
   "metadata": {
    "scrolled": true
   },
   "outputs": [],
   "source": [
    "len(get_img_files) # 100개 뜨면 정상"
   ]
  },
  {
   "cell_type": "markdown",
   "id": "3e7bb462-405f-433b-a2d8-743adbbcceee",
   "metadata": {},
   "source": [
    "## COCO format test.json 만들기"
   ]
  },
  {
   "cell_type": "code",
   "execution_count": null,
   "id": "3f9080f8-0dfc-45c6-86c5-26edba856b76",
   "metadata": {
    "scrolled": true
   },
   "outputs": [],
   "source": [
    "coco_data = {\n",
    "        \"images\": [],\n",
    "        \"annotations\": [],\n",
    "        \"categories\": [{\"id\": 1, \"name\": \"text\"}],    # 이부분은 비워놔도 됨(only text)\n",
    "}\n",
    "\n",
    "for i, test_file in enumerate(get_img_files):\n",
    "    img = cv2.imread(test_folder+test_file)\n",
    "    h, w, c = img.shape\n",
    "    coco_image = {\n",
    "            \"id\": i,\n",
    "            \"width\": w,\n",
    "            \"height\": h,\n",
    "            \"file_name\": test_file,\n",
    "            \"license\": 0, \n",
    "            \"flickr_url\": None, \n",
    "            \"coco_url\": None, \n",
    "            \"date_captured\": None\n",
    "    }\n",
    "    coco_data[\"images\"].append(coco_image)\n",
    "\n",
    "with open('/opt/ml/input/data/medical/ufo/test.json', 'w') as f:\n",
    "    json.dump(coco_data, f)"
   ]
  },
  {
   "cell_type": "markdown",
   "id": "3507144f-e243-49b7-972e-a7e1da2fc30c",
   "metadata": {},
   "source": [
    "## 앙상블 시작\n",
    "code/utils/ensemble/~.json 파일들 두기"
   ]
  },
  {
   "cell_type": "code",
   "execution_count": null,
   "id": "da19957c-d46b-47d1-96b5-09e427428b5e",
   "metadata": {},
   "outputs": [],
   "source": [
    "submission_files = []\n",
    "for file_name in os.listdir('./ensemble'):\n",
    "    if file_name.startswith('.'):\n",
    "        continue\n",
    "    submission_files.append(file_name)"
   ]
  },
  {
   "cell_type": "code",
   "execution_count": null,
   "id": "50e78c2d-87bd-4bc8-8132-d79179d6ae2a",
   "metadata": {},
   "outputs": [],
   "source": [
    "submission_files         # 앙상블할 json 파일들 확인하기"
   ]
  },
  {
   "cell_type": "code",
   "execution_count": null,
   "id": "3d55b9d8-7361-4928-b8bb-288026edaea0",
   "metadata": {
    "scrolled": true
   },
   "outputs": [],
   "source": [
    "annotation = '/opt/ml/input/data/medical/ufo/test.json'\n",
    "coco = COCO(annotation)\n",
    "\n",
    "iou_thr = 0.5            # TODO : iou threshold 설정\n",
    "skip_box_thr = 0.0001    # TODO : skip iou threshold 설정 0.0001\n",
    "\n",
    "images_anno = {}\n",
    "for i, test_file in enumerate(get_img_files):\n",
    "    boxes_list = []\n",
    "    scores_list = []\n",
    "    labels_list = []\n",
    "    image_info = coco.loadImgs(i)[0]\n",
    "    \n",
    "    for submission in submission_files:\n",
    "        with open('./ensemble/'+submission, 'r') as f:\n",
    "            data = json.load(f)\n",
    "            images = data['images']\n",
    "        words = images[image_info['file_name']]\n",
    "        box_list = []\n",
    "        for word_id, word_data in words[\"words\"].items():\n",
    "            # UFO to PascalVOC format\n",
    "            [tl, tr, br, bl] = word_data[\"points\"]\n",
    "            xmin = min(tl[0], tr[0], br[0], bl[0])\n",
    "            ymin = min(tl[1], tr[1], br[1], bl[1])\n",
    "            xmax = max(tl[0], tr[0], br[0], bl[0])\n",
    "            ymax = max(tl[1], tr[1], br[1], bl[1])\n",
    "            box = [xmin/image_info['width'], ymin/image_info['height'], xmax/image_info['width'], ymax/image_info['height']]\n",
    "            box_list.append(box)\n",
    "        boxes_list.append(box_list)\n",
    "        scores_list.append([1.0]*len(words[\"words\"].items()))\n",
    "        labels_list.append([1]*len(words[\"words\"].items()))\n",
    "\n",
    "    if len(boxes_list):\n",
    "        boxes, scores, labels = weighted_boxes_fusion(boxes_list, scores_list, labels_list, iou_thr=iou_thr, skip_box_thr=skip_box_thr)\n",
    "        prediction_words = []\n",
    "        points_list = []\n",
    "        for idx, (box, score, label) in enumerate(zip(boxes, scores, labels)):\n",
    "            # PascalVOC to UFO format\n",
    "            p_xmin = box[0]*image_info['width']\n",
    "            p_ymin = box[1]*image_info['height']\n",
    "            p_xmax = box[2]*image_info['width']\n",
    "            p_ymax = box[3]*image_info['height']\n",
    "            p_width = p_xmax - p_xmin\n",
    "            p_height = p_ymax - p_ymin\n",
    "            p_tl = [p_xmin, p_ymin]\n",
    "            p_tr = [p_xmin + p_width, p_ymin]\n",
    "            p_br = [p_xmin + p_width, p_ymin + p_height]\n",
    "            p_bl = [p_xmin, p_ymin + p_height]\n",
    "            points = [p_tl, p_tr, p_br, p_bl]\n",
    "            points_list.append(points)\n",
    "        prediction_words = {idx: dict(points=p) for idx, p in enumerate(points_list)}\n",
    "    images_anno[image_info['file_name']] = dict(words=prediction_words)\n",
    "\n",
    "images_anno = {'images':images_anno}\n",
    "# 앙상블 결과 출력용\n",
    "with open('result.json', 'w') as f:\n",
    "    json.dump(images_anno, f)\n",
    "\n",
    "# 제출용 : csv 파일로 바로 변경\n",
    "with open('result.csv', 'w') as f:  \n",
    "    json.dump(images_anno, f, indent=4)"
   ]
  },
  {
   "cell_type": "markdown",
   "id": "a1d2f735-72d7-4fc5-a68a-0049e602aea3",
   "metadata": {},
   "source": [
    "## 앙상블 결과 출력해보기"
   ]
  },
  {
   "cell_type": "code",
   "execution_count": null,
   "id": "776aae0b-4bdb-42d4-bd12-e183ada7d33c",
   "metadata": {},
   "outputs": [],
   "source": [
    "root_path = '/opt/ml/input/data/medical/img/test'\n",
    "anno_root = './result.json'\n",
    "\n",
    "bboxes = []\n",
    "\n",
    "with open(anno_root, 'r') as f:\n",
    "    train_json = json.load(f)\n",
    "    images = train_json['images']\n",
    "    images_df = pd.DataFrame.from_dict(images)\n",
    "\n",
    "image_id = sorted(list(images_df))\n",
    "fnames = [os.path.join(root_path, i) for i in image_id] # 이미지 정렬 순서 고려하기 위해, json 파일에서 image path 가져오기 \n",
    "\n",
    "for index, img_id in enumerate(image_id):\n",
    "    temp_anns = []\n",
    "\n",
    "    temp = images_df[f'{img_id}']\n",
    "    words = temp.loc['words']\n",
    "\n",
    "    for key in words.keys():\n",
    "        temp_ann = {}\n",
    "        temp_ann['image_id'] = img_id \n",
    "        temp_ann['id'] = index\n",
    "\n",
    "        word = words[key]\n",
    "\n",
    "        temp_ann['bbox'] = word['points']\n",
    "        temp_anns.append(temp_ann)\n",
    "    bboxes.append(temp_anns)\n",
    "\n",
    "img_name_list = [img.split(\"/\")[-1][:-4] for img in fnames]\n",
    "\n",
    "def showimg(idx):\n",
    "    fig, ax = plt.subplots(1, 2, dpi=512)\n",
    "    img = io.imread(fnames[idx])\n",
    "\n",
    "    anns = bboxes[idx]\n",
    "    \n",
    "    ax[0].imshow(img)\n",
    "    ax[1].imshow(img)\n",
    "\n",
    "    for ann in anns:\n",
    "        ann_id = ann['id']\n",
    "        #class_idx = ann['category_id']\n",
    "        \n",
    "        ax[0].set_title('original', fontsize = 7)\n",
    "        ax[1].set_title(f\"{img_name_list[idx]}\", fontsize = 7)\n",
    "        \n",
    "        ax[0].set_xticks([])\n",
    "        ax[0].set_yticks([])\n",
    "        \n",
    "        ax[1].set_xticks([])\n",
    "        ax[1].set_yticks([])\n",
    "        \n",
    "        for pos in ['right', 'top', 'bottom', 'left']:\n",
    "            ax[0].spines[pos].set_visible(False)\n",
    "            ax[1].spines[pos].set_visible(False)\n",
    "            \n",
    "        points = np.array(ann['bbox'])\n",
    "        ax[1].add_patch(patches.Polygon(\n",
    "            points,\n",
    "            closed = True,\n",
    "            edgecolor = 'orange',\n",
    "            fill = False,\n",
    "            linewidth = 0.3\n",
    "        ))"
   ]
  },
  {
   "cell_type": "code",
   "execution_count": null,
   "id": "ee462b9b-2eab-4f8a-bddd-7173de450f20",
   "metadata": {},
   "outputs": [],
   "source": [
    "for i in range(30, 40): # index 0~99\n",
    "    showimg(i)"
   ]
  }
 ],
 "metadata": {
  "kernelspec": {
   "display_name": "Python 3 (ipykernel)",
   "language": "python",
   "name": "python3"
  },
  "language_info": {
   "codemirror_mode": {
    "name": "ipython",
    "version": 3
   },
   "file_extension": ".py",
   "mimetype": "text/x-python",
   "name": "python",
   "nbconvert_exporter": "python",
   "pygments_lexer": "ipython3",
   "version": "3.8.5"
  }
 },
 "nbformat": 4,
 "nbformat_minor": 5
}
