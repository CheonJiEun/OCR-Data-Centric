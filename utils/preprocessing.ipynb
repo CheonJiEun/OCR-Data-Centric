{
 "cells": [
  {
   "cell_type": "code",
   "execution_count": 39,
   "metadata": {},
   "outputs": [],
   "source": [
    "import os\n",
    "import os.path as osp\n",
    "import json\n",
    "from tqdm import tqdm\n",
    "import pickle\n",
    "\n",
    "import numpy as np\n",
    "import cv2\n",
    "\n",
    "os.chdir('/opt/ml/input/local')\n",
    "from dataset import filter_vertices, resize_img, adjust_height, rotate_img, crop_img"
   ]
  },
  {
   "cell_type": "code",
   "execution_count": 40,
   "metadata": {},
   "outputs": [],
   "source": [
    "def preprocessing(\n",
    "        root_dir,\n",
    "        split=\"train\",\n",
    "        num=0,\n",
    "        image_size=2048,\n",
    "        crop_size=1024,\n",
    "        ignore_tags=[\"masked\", \"excluded-region\", \"maintable\", \"stamp\"],\n",
    "        ignore_under_threshold=10,\n",
    "        drop_under_threshold=1,\n",
    "    ):\n",
    "    \n",
    "        if crop_size % 32 != 0:\n",
    "            raise ValueError(\"`input_size` must be a multiple of 32\")\n",
    "        \n",
    "        if num == 0:\n",
    "            json_dir = osp.join(root_dir, \"ufo/{}.json\".format(split))\n",
    "            pkl_dir = osp.join(root_dir, \"ufo/{}.pickle\".format(split))\n",
    "        else:\n",
    "            json_dir = osp.join(root_dir, \"ufo/{}.json\".format(split + str(num)))\n",
    "            pkl_dir = osp.join(root_dir, \"ufo/{}.pickle\".format(split + str(num)))\n",
    "\n",
    "        with open(json_dir, \"r\") as f:\n",
    "            anno = json.load(f)\n",
    "\n",
    "        image_fnames = sorted(anno[\"images\"].keys())\n",
    "        if split == \"val\":\n",
    "            split = \"train\"\n",
    "        image_dir = osp.join(root_dir, \"img\", split)\n",
    "        \n",
    "        total = dict(images = [],\n",
    "                     vertices = [],\n",
    "                     labels = [])\n",
    "        for idx in tqdm(range(len(image_fnames))):\n",
    "            image_fname = image_fnames[idx]\n",
    "            image_fpath = osp.join(image_dir, image_fname)\n",
    "\n",
    "            ########################################################################\n",
    "            vertices, labels = [], []\n",
    "            for word_info in anno[\"images\"][image_fname][\"words\"].values():\n",
    "                word_tags = word_info[\"tags\"]\n",
    "                ignore_sample = any(\n",
    "                    elem for elem in word_tags if elem in ignore_tags\n",
    "                )\n",
    "                num_pts = np.array(word_info[\"points\"]).shape[0]\n",
    "\n",
    "                if ignore_sample or num_pts > 4:\n",
    "                    continue\n",
    "\n",
    "                vertices.append(np.array(word_info[\"points\"]).flatten())\n",
    "                labels.append(int(not word_info[\"illegibility\"]))\n",
    "            vertices, labels = np.array(vertices, dtype=np.float32), np.array(\n",
    "                labels, dtype=np.int64\n",
    "            )\n",
    "            ########################################################################\n",
    "\n",
    "            vertices, labels = filter_vertices(\n",
    "                vertices,\n",
    "                labels,\n",
    "                ignore_under=ignore_under_threshold,\n",
    "                drop_under=drop_under_threshold,\n",
    "            )\n",
    "            image = cv2.imread(image_fpath)\n",
    "            image = cv2.cvtColor(image, cv2.COLOR_BGR2RGB)\n",
    "\n",
    "            #######################################################################\n",
    "            image, vertices = resize_img(image, vertices, image_size)\n",
    "            image, vertices = adjust_height(image, vertices)\n",
    "            image, vertices = rotate_img(image, vertices)\n",
    "            image, vertices = crop_img(image, vertices, labels, crop_size)\n",
    "            #######################################################################\n",
    "\n",
    "            total[\"images\"].append(image)\n",
    "            total[\"vertices\"].append(vertices)\n",
    "            total[\"labels\"].append(labels)\n",
    "        \n",
    "        print(f\"Save path >> {pkl_dir}\")\n",
    "        with open(pkl_dir,'wb') as fw:\n",
    "            pickle.dump(total, fw)"
   ]
  },
  {
   "attachments": {},
   "cell_type": "markdown",
   "metadata": {},
   "source": [
    "- 수정 가능한 부분\n",
    "    - root_dir\n",
    "    - split : \"train\" or \"val\"\n",
    "    - num : json 파일에 붙은 num을 그대로 사용"
   ]
  },
  {
   "cell_type": "code",
   "execution_count": 42,
   "metadata": {},
   "outputs": [
    {
     "name": "stderr",
     "output_type": "stream",
     "text": [
      "100%|██████████| 61/61 [04:05<00:00,  4.02s/it]\n"
     ]
    },
    {
     "name": "stdout",
     "output_type": "stream",
     "text": [
      "Save path >> /opt/ml/input/data/medical/ufo/val2.pickle\n"
     ]
    }
   ],
   "source": [
    "preprocessing(\n",
    "        root_dir = '/opt/ml/input/data/medical',\n",
    "        split=\"val\",\n",
    "        num=2,\n",
    "        image_size=2048,\n",
    "        crop_size=1024,\n",
    "        ignore_tags=[\"masked\", \"excluded-region\", \"maintable\", \"stamp\"],\n",
    "        ignore_under_threshold=10,\n",
    "        drop_under_threshold=1,\n",
    "    )"
   ]
  },
  {
   "attachments": {},
   "cell_type": "markdown",
   "metadata": {},
   "source": [
    "- 저장 되었는지 확인"
   ]
  },
  {
   "cell_type": "code",
   "execution_count": 31,
   "metadata": {},
   "outputs": [],
   "source": [
    "with open('/opt/ml/input/data/medical/ufo/train3.pickle', 'rb') as fr:\n",
    "    total = pickle.load(fr)"
   ]
  }
 ],
 "metadata": {
  "kernelspec": {
   "display_name": "ocr",
   "language": "python",
   "name": "python3"
  },
  "language_info": {
   "codemirror_mode": {
    "name": "ipython",
    "version": 3
   },
   "file_extension": ".py",
   "mimetype": "text/x-python",
   "name": "python",
   "nbconvert_exporter": "python",
   "pygments_lexer": "ipython3",
   "version": "3.8.5"
  },
  "orig_nbformat": 4
 },
 "nbformat": 4,
 "nbformat_minor": 2
}
